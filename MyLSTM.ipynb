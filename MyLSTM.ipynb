{
  "cells": [
    {
      "cell_type": "markdown",
      "metadata": {
        "id": "view-in-github",
        "colab_type": "text"
      },
      "source": [
        "<a href=\"https://colab.research.google.com/github/wissamismail/Manifest_PDF_Extractor/blob/master/MyLSTM.ipynb\" target=\"_parent\"><img src=\"https://colab.research.google.com/assets/colab-badge.svg\" alt=\"Open In Colab\"/></a>"
      ]
    },
    {
      "cell_type": "code",
      "execution_count": 3,
      "metadata": {
        "id": "t8bGb5Mp0jQ8"
      },
      "outputs": [],
      "source": [
        "#Basic Libraries\n",
        "import warnings\n",
        "import glob #List Directory Files\n",
        "import pandas as pd # Read CSV File\n",
        "import numpy as np\n",
        "#Graphic displays Libraries\n",
        "import matplotlib.pyplot as plt\n",
        "from keras.utils import plot_model\n",
        "#Model Libraries\n",
        "from sklearn.model_selection import train_test_split\n",
        "from keras.optimizers import Adam\n",
        "from keras.regularizers import l2\n",
        "from keras import optimizers, Sequential\n",
        "from keras.layers import Dense, LSTM, RepeatVector, TimeDistributed, Dropout, BatchNormalization\n",
        "from keras.callbacks import EarlyStopping\n",
        "from sklearn.metrics import accuracy_score, precision_score, recall_score, f1_score, confusion_matrix\n",
        "from tensorflow.keras.models import save_model, load_model"
      ]
    },
    {
      "cell_type": "code",
      "execution_count": 4,
      "metadata": {
        "colab": {
          "base_uri": "https://localhost:8080/"
        },
        "id": "VzoknqPF0jRI",
        "outputId": "b861704c-2492-483d-c25c-09eccf61cd12"
      },
      "outputs": [
        {
          "output_type": "execute_result",
          "data": {
            "text/plain": [
              "[]"
            ]
          },
          "metadata": {},
          "execution_count": 4
        }
      ],
      "source": [
        "# list all hwinfo raw csv files only in the specified path\n",
        "Path = \"D:/Log Files/Ready\"\n",
        "csv_files = glob.glob(Path + \"/*.csv\")#'*.{}'.format('csv'))\n",
        "csv_files"
      ]
    },
    {
      "cell_type": "code",
      "execution_count": null,
      "metadata": {
        "id": "nJwf1ITy0jRK"
      },
      "outputs": [],
      "source": [
        "df=pd.read_csv(Path+\"/Unique-Scaled-38Featurs.csv\",encoding='unicode-escape')\n",
        "df.head(2)"
      ]
    },
    {
      "cell_type": "code",
      "execution_count": null,
      "metadata": {
        "id": "mQoaGb3Y0jRL"
      },
      "outputs": [],
      "source": [
        "df.dtypes"
      ]
    },
    {
      "cell_type": "code",
      "execution_count": null,
      "metadata": {
        "id": "3h5HOWcJ0jRM"
      },
      "outputs": [],
      "source": [
        "df.shape"
      ]
    },
    {
      "cell_type": "code",
      "execution_count": null,
      "metadata": {
        "id": "FJ_SfNAA0jRN"
      },
      "outputs": [],
      "source": [
        "attack = df[df.Label == 1]\n",
        "normal = df[df.Label == 0]"
      ]
    },
    {
      "cell_type": "code",
      "execution_count": null,
      "metadata": {
        "id": "143eI6G30jRN"
      },
      "outputs": [],
      "source": [
        "data = df.loc[:, df.columns != 'Label'].values  # converts the df to a numpy array\n",
        "labels = df['Label'].values\n",
        "\n",
        "n_features = data.shape[1]  # number of features\n",
        "print(f\"NB of Dataset Features: {n_features}\")"
      ]
    },
    {
      "cell_type": "code",
      "execution_count": null,
      "metadata": {
        "id": "9EFxFlL70jRO"
      },
      "outputs": [],
      "source": [
        "X_train, X_test, y_train, y_test = train_test_split(data, labels, test_size=0.2, random_state=1)\n",
        "\n",
        "X_train, X_valid, y_train, y_valid = train_test_split(X_train, y_train, test_size=0.25, random_state=1) # 0.25 x 0.8 = 0.2"
      ]
    },
    {
      "cell_type": "code",
      "execution_count": null,
      "metadata": {
        "id": "F_HWmyqR0jRP"
      },
      "outputs": [],
      "source": [
        "print(f\"X_train shape: {X_train.shape}\")\n",
        "print(f\"X_test shape: {X_test.shape}\")\n",
        "print(f\"X_valid shape: {X_valid.shape}\")"
      ]
    },
    {
      "cell_type": "code",
      "execution_count": null,
      "metadata": {
        "id": "1Y611Dx-0jRQ"
      },
      "outputs": [],
      "source": [
        "timesteps = 1\n",
        "X_train = X_train.reshape(X_train.shape[0], timesteps, n_features)\n",
        "X_test = X_test.reshape(X_test.shape[0], timesteps, n_features)\n",
        "X_valid = X_valid.reshape(X_valid.shape[0], timesteps, n_features)\n",
        "print(f\"X_train shape: {X_train.shape}\")\n",
        "print(f\"X_test shape: {X_test.shape}\")\n",
        "print(f\"X_valid shape: {X_valid.shape}\")"
      ]
    },
    {
      "cell_type": "code",
      "execution_count": null,
      "metadata": {
        "id": "W60-gMy-0jRR"
      },
      "outputs": [],
      "source": [
        "from tensorflow import keras\n",
        "LAYERS = [37, 16, 37, 1]                # number of units in hidden and output layers\n",
        "LSTMAmodel = Sequential()\n",
        "LSTMAmodel.add(LSTM(input_shape=(timesteps, n_features), units=LAYERS[0], activation='tanh', recurrent_activation='hard_sigmoid',\n",
        "               kernel_regularizer=l2(0.01), recurrent_regularizer=l2(0.01),\n",
        "               dropout=0.2, recurrent_dropout=0.2,\n",
        "               return_sequences=True, return_state=False,\n",
        "               stateful=False, unroll=False\n",
        "              ))\n",
        "\n",
        "LSTMAmodel.add(BatchNormalization())                   # kernel_regularizer acts on the weights\n",
        "LSTMAmodel.add(LSTM(units=LAYERS[2],\n",
        "               activation='tanh', recurrent_activation='hard_sigmoid',\n",
        "               kernel_regularizer=l2(0.01), recurrent_regularizer=l2(0.01),\n",
        "               dropout=0.2, recurrent_dropout=0.2,\n",
        "               return_sequences=True, return_state=False,\n",
        "               stateful=False, unroll=False\n",
        "              ))\n",
        "\n",
        "LSTMAmodel.add(BatchNormalization())\n",
        "LSTMAmodel.add(LSTM(units=LAYERS[2],\n",
        "               activation='tanh', recurrent_activation='hard_sigmoid',\n",
        "               kernel_regularizer=l2(0.01), recurrent_regularizer=l2(0.01),\n",
        "               dropout=0.2, recurrent_dropout=0.2,\n",
        "               return_sequences=False, return_state=False,\n",
        "               stateful=False, unroll=False\n",
        "              ))\n",
        "\n",
        "LSTMAmodel.add(BatchNormalization())\n",
        "LSTMAmodel.add(Dense(units=LAYERS[3], activation='sigmoid'))\n",
        "\n",
        "# Compile the model with Adam optimizer\n",
        "#LSTMAmodel.compile(loss='binary_crossentropy', metrics=['accuracy'], optimizer='adam')\n",
        "LSTMAmodel.compile(loss='binary_crossentropy', optimizer='adamax', metrics=['accuracy'])#,keras.metrics.Precision(),keras.metrics.Recall()])\n",
        "\n",
        "LSTMAmodel.summary()"
      ]
    },
    {
      "cell_type": "code",
      "execution_count": null,
      "metadata": {
        "id": "reav67i30jRT"
      },
      "outputs": [],
      "source": [
        "plot_model(LSTMAmodel, show_shapes=True, dpi = 100)"
      ]
    },
    {
      "cell_type": "code",
      "execution_count": null,
      "metadata": {
        "id": "h_c8C2Z_0jRU"
      },
      "outputs": [],
      "source": [
        "es =EarlyStopping(patience=3, monitor='val_loss', restore_best_weights=True, mode='min')\n",
        "LSTMAmodel_history = LSTMAmodel.fit(X_train, y_train, epochs=100,\n",
        "                                                batch_size=32, validation_data=(X_valid, y_valid)\n",
        "                                                , callbacks=[es],\n",
        "                                                shuffle=False).history"
      ]
    },
    {
      "cell_type": "code",
      "execution_count": null,
      "metadata": {
        "id": "2jmmKWr90jRV"
      },
      "outputs": [],
      "source": [
        "plt.plot(LSTMAmodel_history['loss'], linewidth=2, label='Train')\n",
        "plt.plot(LSTMAmodel_history['val_loss'], linewidth=2, label='Valid')\n",
        "plt.legend(loc='upper right')\n",
        "plt.title('Model loss')\n",
        "plt.ylabel('Loss')\n",
        "plt.xlabel('Epoch')\n",
        "plt.show()"
      ]
    },
    {
      "cell_type": "code",
      "execution_count": null,
      "metadata": {
        "id": "uKkdC2xm0jRX"
      },
      "outputs": [],
      "source": [
        "Path = \"D:/Log Files/Ready\"\n",
        "save_model(LSTMAmodel, Path+'/MyLSTM-V01.keras')\n",
        "print(\"Saved model to disk\")"
      ]
    },
    {
      "cell_type": "code",
      "execution_count": null,
      "metadata": {
        "id": "onx4d4J90jRY"
      },
      "outputs": [],
      "source": [
        "# Evaluate the model:\n",
        "train_loss, train_acc = LSTMAmodel.evaluate(X_train, y_train)\n",
        "test_loss, test_acc = LSTMAmodel.evaluate(X_test,y_test)\n",
        "valid_loss, valid_acc = LSTMAmodel.evaluate(X_valid,y_valid)"
      ]
    },
    {
      "cell_type": "code",
      "execution_count": null,
      "metadata": {
        "id": "NtUYJ_mQ0jRZ"
      },
      "outputs": [],
      "source": [
        "print(f'training accuracy = {round(train_acc * 100, 4)}%')\n",
        "print(f'testing accuracy = {round(test_acc * 100, 4)}%')\n",
        "print(f'validation accuracy = {round(valid_acc * 100, 4)}%')\n",
        "print(f'train errors = {round((1 - train_acc) * X_train.shape[0])} out of {X_train.shape[0]} samples')\n",
        "print(f'test errors = {round((1 - test_acc) * X_test.shape[0])} out of {X_test.shape[0]} samples')\n"
      ]
    },
    {
      "cell_type": "code",
      "execution_count": null,
      "metadata": {
        "id": "lTyIJ1tF0jRa"
      },
      "outputs": [],
      "source": [
        "#predictions = LSTMAmodel.predict(X_valid[:600]) #using 600 rows only because RAM limitation\n",
        "y_pred= LSTMAmodel.predict(X_valid)"
      ]
    },
    {
      "cell_type": "code",
      "execution_count": null,
      "metadata": {
        "id": "iizNhtyX0jRb"
      },
      "outputs": [],
      "source": [
        "# Set a threshold for anomaly detection (you might need to adjust this based on your specific case)\n",
        "threshold = 0.5"
      ]
    },
    {
      "cell_type": "code",
      "execution_count": null,
      "metadata": {
        "id": "3dMLXYTi0jRc"
      },
      "outputs": [],
      "source": [
        "# Apply thresholding to convert autoencoder output to binary labels\n",
        "y_pred_binary = (y_pred > threshold).astype(int)"
      ]
    },
    {
      "cell_type": "code",
      "execution_count": null,
      "metadata": {
        "id": "orXkU8pE0jRd"
      },
      "outputs": [],
      "source": [
        "from sklearn.metrics import confusion_matrix\n",
        "# Compute confusion matrix\n",
        "conf_matrix = confusion_matrix(y_valid, y_pred_binary)"
      ]
    },
    {
      "cell_type": "code",
      "execution_count": null,
      "metadata": {
        "id": "IcCvSp4H0jRf"
      },
      "outputs": [],
      "source": [
        "# Extract TP, FP, TN, FN from the confusion matrix\n",
        "TP = conf_matrix[1, 1]\n",
        "FP = conf_matrix[0, 1]\n",
        "TN = conf_matrix[0, 0]\n",
        "FN = conf_matrix[1, 0]"
      ]
    },
    {
      "cell_type": "code",
      "execution_count": null,
      "metadata": {
        "id": "Aq6MO3O80jRf"
      },
      "outputs": [],
      "source": [
        "# Compute precision, recall, and F1-score\n",
        "precision = precision_score(y_valid, y_pred_binary)\n",
        "recall = recall_score(y_valid, y_pred_binary)\n",
        "f1 = f1_score(y_valid, y_pred_binary)"
      ]
    },
    {
      "cell_type": "code",
      "execution_count": null,
      "metadata": {
        "id": "BCQZyUpI0jRg"
      },
      "outputs": [],
      "source": [
        "# Print the results\n",
        "print(f'Confusion Matrix:\\n{conf_matrix}')\n",
        "print(f'Precision: {precision:.4f}')\n",
        "print(f'Recall: {recall:.4f}')\n",
        "print(f'F1-Score: {f1:.4f}')"
      ]
    },
    {
      "cell_type": "code",
      "execution_count": null,
      "metadata": {
        "id": "MQsxGoIK0jRh"
      },
      "outputs": [],
      "source": []
    },
    {
      "cell_type": "code",
      "execution_count": null,
      "metadata": {
        "id": "Na64eN620jRh"
      },
      "outputs": [],
      "source": []
    }
  ],
  "metadata": {
    "kernelspec": {
      "display_name": "Python 3",
      "language": "python",
      "name": "python3"
    },
    "language_info": {
      "codemirror_mode": {
        "name": "ipython",
        "version": 3
      },
      "file_extension": ".py",
      "mimetype": "text/x-python",
      "name": "python",
      "nbconvert_exporter": "python",
      "pygments_lexer": "ipython3",
      "version": "3.11.3"
    },
    "colab": {
      "provenance": [],
      "include_colab_link": true
    }
  },
  "nbformat": 4,
  "nbformat_minor": 0
}